{
 "cells": [
  {
   "cell_type": "code",
   "execution_count": null,
   "metadata": {},
   "outputs": [],
   "source": [
    "import numpy as np\n",
    "import pandas as pd\n",
    "import json\n",
    "import pprint\n",
    "import pickle"
   ]
  },
  {
   "cell_type": "code",
   "execution_count": null,
   "metadata": {},
   "outputs": [],
   "source": [
    "df= pd.read_csv('in_n_out_reviews')"
   ]
  },
  {
   "cell_type": "code",
   "execution_count": null,
   "metadata": {},
   "outputs": [],
   "source": [
    "test_ids = df['user_id']"
   ]
  },
  {
   "cell_type": "code",
   "execution_count": null,
   "metadata": {},
   "outputs": [],
   "source": [
    "df_user = pd.DataFrame(final_user_set)"
   ]
  },
  {
   "cell_type": "code",
   "execution_count": null,
   "metadata": {},
   "outputs": [],
   "source": [
    "df_user.to_csv('user_info')"
   ]
  },
  {
   "cell_type": "code",
   "execution_count": null,
   "metadata": {
    "scrolled": true
   },
   "outputs": [],
   "source": [
    "len(user_dict)"
   ]
  },
  {
   "cell_type": "code",
   "execution_count": null,
   "metadata": {},
   "outputs": [],
   "source": [
    "id_set = set()\n",
    "for i in test_ids:\n",
    "    id_set.add(i)"
   ]
  },
  {
   "cell_type": "code",
   "execution_count": null,
   "metadata": {},
   "outputs": [],
   "source": [
    "len(id_set)"
   ]
  },
  {
   "cell_type": "code",
   "execution_count": null,
   "metadata": {},
   "outputs": [],
   "source": [
    "user_dict = get_business_info('/Users/kevin/Desktop/yelp_dataset/yelp_academic_dataset_user.json')"
   ]
  },
  {
   "cell_type": "code",
   "execution_count": null,
   "metadata": {},
   "outputs": [],
   "source": [
    "#Parses the JSON for users that wrote the reviews in my dataset.\n",
    "def get_user_info():\n",
    "    users = get_reviews('/Users/kevin/Desktop/yelp_dataset/yelp_academic_dataset_user.json', get_user_id())\n",
    "    temp_df = pd.DataFrame(users)\n",
    "    temp_df.to_csv('user_info')\n",
    "    return temp_df"
   ]
  },
  {
   "cell_type": "code",
   "execution_count": null,
   "metadata": {},
   "outputs": [],
   "source": [
    "#Saves to csv a dataframe with the reviews matched to the correct businesses\n",
    "def get_specific_reviews():\n",
    "    reviews = get_reviews('/Users/kevin/Desktop/yelp_dataset/yelp_academic_dataset_review.json', get_business_id())\n",
    "    df = pd.DataFrame(reviews)\n",
    "    df.to_csv('in_n_out_reviews')"
   ]
  },
  {
   "cell_type": "code",
   "execution_count": null,
   "metadata": {},
   "outputs": [],
   "source": [
    "#Retrieves all of the user_ids from the data set.\n",
    "def get_user_id():\n",
    "    df = pd.read_csv('in_n_out_reviews')\n",
    "    user_id = df['user_id']\n",
    "    return user_id"
   ]
  },
  {
   "cell_type": "code",
   "execution_count": null,
   "metadata": {
    "scrolled": true
   },
   "outputs": [],
   "source": [
    "#Returns a set of specific business id's\n",
    "def get_business_id():\n",
    "    observations = get_business_info('/Users/kevin/Desktop/yelp_dataset/yelp_academic_dataset_business.json')\n",
    "    final_obs = []\n",
    "    restaurant_id = set()\n",
    "    for i in observations:\n",
    "         if i['categories']:\n",
    "            if (i['is_open']\n",
    "            and i['review_count'] > 50\n",
    "            and ('Restaurant' in i['categories'] or 'Food' in i['categories'])\n",
    "            and ('Burgers' in i['categories'])\n",
    "            and \"Vegas\" in i['city']\n",
    "            and \"In-N-Out Burger\" == i['name']):\n",
    "                final_obs.append(i)\n",
    "    for i in final_obs:\n",
    "        restaurant_id.add(i['business_id'])\n",
    "    return restaurant_id"
   ]
  },
  {
   "cell_type": "code",
   "execution_count": null,
   "metadata": {},
   "outputs": [],
   "source": [
    "#Reads in a file and returns it in json format.\n",
    "def get_business_info(filepath):\n",
    "    with open(filepath) as f:\n",
    "        new_observations = []\n",
    "        for s in f.readlines():\n",
    "            a = json.loads(s)\n",
    "            new_observations.append(a)\n",
    "    return new_observations\n",
    "\n",
    "#Returns observations that match the restaurant ids of the businesses I want to include in my dataset.\n",
    "def get_reviews(filepath, restaurant_id):\n",
    "    with open(filepath) as f:\n",
    "        new_observations = []\n",
    "        for s in f.readlines():\n",
    "            a = json.loads(s)\n",
    "            if 'business_id' in a.keys():\n",
    "                if a['business_id'] in restaurant_id:\n",
    "                    new_observations.append(a)\n",
    "            if 'user_id' in a.keys():\n",
    "                if a['user_id'] in restaurant_id:\n",
    "                    new_observations.append(a)\n",
    "    return new_observations"
   ]
  },
  {
   "cell_type": "code",
   "execution_count": null,
   "metadata": {},
   "outputs": [],
   "source": [
    "#Looking for a city that has high reviews on yelp\n",
    "df.groupby('city')['review_count'].count().sort_values(ascending = False)"
   ]
  },
  {
   "cell_type": "code",
   "execution_count": null,
   "metadata": {},
   "outputs": [],
   "source": [
    "#Looking for a restaurant that has multiple locations with high number of reviews\n",
    "df.groupby('name').sum().sort_values('review_count', ascending = False)"
   ]
  }
 ],
 "metadata": {
  "kernelspec": {
   "display_name": "Python 3",
   "language": "python",
   "name": "python3"
  },
  "language_info": {
   "codemirror_mode": {
    "name": "ipython",
    "version": 3
   },
   "file_extension": ".py",
   "mimetype": "text/x-python",
   "name": "python",
   "nbconvert_exporter": "python",
   "pygments_lexer": "ipython3",
   "version": "3.6.5"
  }
 },
 "nbformat": 4,
 "nbformat_minor": 2
}
