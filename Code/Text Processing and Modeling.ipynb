{
 "cells": [
  {
   "cell_type": "raw",
   "metadata": {},
   "source": [
    "In this notebook I do text preprocessing and modeling using count vectors and topics as features.\n",
    "I also try to add parts of speech, user data, and polarity as features. I make most of my graphs and save the results of my modeling as well. "
   ]
  },
  {
   "cell_type": "code",
   "execution_count": 20,
   "metadata": {},
   "outputs": [],
   "source": [
    "from collections import Counter\n",
    "import datetime\n",
    "import numpy as np\n",
    "import pandas as pd\n",
    "import pickle\n",
    "import itertools\n",
    "from nltk.corpus import stopwords\n",
    "import matplotlib.pyplot as plt\n",
    "from gensim.utils import simple_preprocess\n",
    "from sklearn.feature_extraction.text import CountVectorizer\n",
    "from sklearn.naive_bayes import MultinomialNB, GaussianNB\n",
    "from sklearn.linear_model import LogisticRegression\n",
    "from sklearn.ensemble import GradientBoostingClassifier\n",
    "from sklearn.cross_validation import train_test_split\n",
    "from sklearn.preprocessing import scale\n",
    "from sklearn.metrics import classification_report,accuracy_score, roc_auc_score, roc_curve, auc\n",
    "from sklearn.model_selection import GridSearchCV\n",
    "from sklearn import metrics\n",
    "from textblob import TextBlob"
   ]
  },
  {
   "cell_type": "code",
   "execution_count": 3,
   "metadata": {},
   "outputs": [
    {
     "name": "stdout",
     "output_type": "stream",
     "text": [
      "[nltk_data] Downloading package averaged_perceptron_tagger to\n",
      "[nltk_data]     /Users/kevin/nltk_data...\n",
      "[nltk_data]   Package averaged_perceptron_tagger is already up-to-\n",
      "[nltk_data]       date!\n"
     ]
    },
    {
     "data": {
      "text/plain": [
       "True"
      ]
     },
     "execution_count": 3,
     "metadata": {},
     "output_type": "execute_result"
    }
   ],
   "source": [
    "import nltk\n",
    "nltk.download('averaged_perceptron_tagger')"
   ]
  },
  {
   "cell_type": "code",
   "execution_count": 2,
   "metadata": {},
   "outputs": [],
   "source": [
    "from sklearn.feature_extraction import text "
   ]
  },
  {
   "cell_type": "code",
   "execution_count": 5,
   "metadata": {},
   "outputs": [],
   "source": [
    "#Reads in a CSV file as a dataframe and drops null rows.\n",
    "def import_reviews(filename):\n",
    "    df = pd.read_csv(filename)\n",
    "    if 'Unnamed: 0' in df.columns:\n",
    "        df.drop(columns = 'Unnamed: 0', inplace=True)\n",
    "    df = df.dropna()\n",
    "    return df"
   ]
  },
  {
   "cell_type": "code",
   "execution_count": 417,
   "metadata": {},
   "outputs": [],
   "source": [
    "#Reading in the reviews and doing text processing on them.\n",
    "df = import_reviews('in_n_out_reviews')\n",
    "\n",
    "df_text = text_preprocessing(df,1)"
   ]
  },
  {
   "cell_type": "code",
   "execution_count": 434,
   "metadata": {},
   "outputs": [
    {
     "data": {
      "text/plain": [
       "False"
      ]
     },
     "execution_count": 434,
     "metadata": {},
     "output_type": "execute_result"
    }
   ],
   "source": [
    "df_text.isnull().values.any()"
   ]
  },
  {
   "cell_type": "code",
   "execution_count": 419,
   "metadata": {},
   "outputs": [
    {
     "name": "stdout",
     "output_type": "stream",
     "text": [
      "<class 'pandas.core.frame.DataFrame'>\n",
      "Int64Index: 3578 entries, 0 to 3581\n",
      "Data columns (total 5 columns):\n",
      "useful           3578 non-null int64\n",
      "text             3578 non-null object\n",
      "tokens           3578 non-null object\n",
      "length           3578 non-null int64\n",
      "modeling_text    3578 non-null object\n",
      "dtypes: int64(2), object(3)\n",
      "memory usage: 167.7+ KB\n"
     ]
    }
   ],
   "source": [
    "df_text.info()"
   ]
  },
  {
   "cell_type": "code",
   "execution_count": 15,
   "metadata": {
    "collapsed": true
   },
   "outputs": [
    {
     "ename": "NameError",
     "evalue": "name 'df_text' is not defined",
     "output_type": "error",
     "traceback": [
      "\u001b[0;31m---------------------------------------------------------------------------\u001b[0m",
      "\u001b[0;31mNameError\u001b[0m                                 Traceback (most recent call last)",
      "\u001b[0;32m<ipython-input-15-38ed2f194a22>\u001b[0m in \u001b[0;36m<module>\u001b[0;34m()\u001b[0m\n\u001b[0;32m----> 1\u001b[0;31m \u001b[0mdf_text\u001b[0m\u001b[0;34m.\u001b[0m\u001b[0mto_csv\u001b[0m\u001b[0;34m(\u001b[0m\u001b[0;34m'tokenized_text'\u001b[0m\u001b[0;34m)\u001b[0m\u001b[0;34m\u001b[0m\u001b[0m\n\u001b[0m",
      "\u001b[0;31mNameError\u001b[0m: name 'df_text' is not defined"
     ]
    }
   ],
   "source": [
    "#Saving the tokenized text to a dataframe for future use\n",
    "df_text.to_csv('tokenized_text')"
   ]
  },
  {
   "cell_type": "code",
   "execution_count": 6,
   "metadata": {},
   "outputs": [],
   "source": [
    "#Processes text to be used in topic modeling. Tokenizes and adds n-grams. Also adds the length\n",
    "# of the review as a column.\n",
    "def text_preprocessing(df, ngram):\n",
    "    df['tokens'] = df['text'].apply(simple_preprocess)\n",
    "    df_text = df[['useful','text', 'tokens']]\n",
    "    df_text = df\n",
    "    df_text = df_text.reset_index()\n",
    "    df_text.drop(columns='index', inplace=True)\n",
    "    df_text = df_text[(df_text.tokens.str.len() > 5)]\n",
    "    df_text['useful'] = df_text['useful'].apply(lambda x: 1 if x > 0 else 0)\n",
    "    df_text['length'] = df_text['text'].apply(len)\n",
    "    if ngram > 1:\n",
    "        df_text['grams'] = df_text['tokens'].apply(lambda x: find_ngrams(x, n=ngram))\n",
    "        df_text['modeling_text_list'] = df_text['tokens'] + df_text['grams']\n",
    "        df_text['modeling_text'] = df_text['modeling_text_list'].apply(lambda x:' '.join(x))\n",
    "    else:\n",
    "        df_text['modeling_text'] = df_text['tokens'].apply(lambda x:' '.join(x))\n",
    "    return df_text"
   ]
  },
  {
   "cell_type": "code",
   "execution_count": 7,
   "metadata": {},
   "outputs": [],
   "source": [
    "#Saves the results of my modeling to a csv\n",
    "def save_metrics(metric_list, df):\n",
    "    df.append(pd.DataFrame(metric_list))\n",
    "    df.to_csv('metrics_dataframe')\n",
    "    return True"
   ]
  },
  {
   "cell_type": "code",
   "execution_count": 8,
   "metadata": {},
   "outputs": [],
   "source": [
    "#Reading in some text, I would overwrite csv files as I updated them so I no longer have the original.\n",
    "df_topic_probs = import_reviews('lda_doc_topic_probs')\n",
    "\n",
    "df = import_reviews('tokenized_text')\n",
    "\n",
    "df_reviews = import_reviews('in_n_out_reviews')\n",
    "\n",
    "df_user = import_reviews('user_info_subset')"
   ]
  },
  {
   "cell_type": "code",
   "execution_count": 154,
   "metadata": {},
   "outputs": [],
   "source": [
    "#Trying to match up reviewer data with the review that they wrote. This was to add more features to model on.\n",
    "df_user.columns = [['useful_sum', 'review_count', 'yelping_since', 'cool_sum', 'funny_sum',\n",
    "       'compliment_cool', 'elite', 'user_id']]\n",
    "\n",
    "df_reviews_user = pd.merge(df_reviews, df_user, how='left', on=['user_id'], sort=False)\n",
    "\n",
    "df_user_with_text = df_reviews_user[['stars', 'text','useful_sum', 'review_count', 'yelping_since',\n",
    "                                       'cool_sum', 'funny_sum', 'compliment_cool', 'elite']]\n",
    "\n",
    "df_tokenized_user = text_preprocessing(df_user_with_text, 1)\n",
    "\n",
    "df_text_user = pd.merge(df, df_tokenized_user, how='left', on=['text'], sort=False)"
   ]
  },
  {
   "cell_type": "code",
   "execution_count": 155,
   "metadata": {},
   "outputs": [
    {
     "data": {
      "text/plain": [
       "(3582, 3578, 3582)"
      ]
     },
     "execution_count": 155,
     "metadata": {},
     "output_type": "execute_result"
    }
   ],
   "source": [
    "#I was getting different lengths for the two dataframes so I began to suspect that something wasn't working as\n",
    "#intended\n",
    "len(df), len(df_text_user)"
   ]
  },
  {
   "cell_type": "code",
   "execution_count": 77,
   "metadata": {},
   "outputs": [],
   "source": [
    "#Converting the day the user joined into the age of the account in days.\n",
    "def days_old(date):\n",
    "    date = datetime.datetime.strptime(date, \"%Y-%m-%d\")\n",
    "    return (datetime.datetime.utcnow() - date).days\n",
    "df_text_user['account_age'] = df_text_user['yelping_since'].apply(days_old)"
   ]
  },
  {
   "cell_type": "code",
   "execution_count": 156,
   "metadata": {},
   "outputs": [],
   "source": [
    "#Making an account_age column in days\n",
    "df_tokenized_user['account_age'] = df_tokenized_user['yelping_since'].apply(days_old)"
   ]
  },
  {
   "cell_type": "code",
   "execution_count": 81,
   "metadata": {},
   "outputs": [],
   "source": [
    "#Saving my the user data matched with review dataframe.\n",
    "df_tokenized_user.to_csv('my_lst_hope')\n",
    "\n",
    "df_text_user.to_csv('user_info_subset')"
   ]
  },
  {
   "cell_type": "code",
   "execution_count": 90,
   "metadata": {},
   "outputs": [
    {
     "data": {
      "text/plain": [
       "(3578, 3582)"
      ]
     },
     "execution_count": 90,
     "metadata": {},
     "output_type": "execute_result"
    }
   ],
   "source": [
    "len(df_topic_probs), len(df_text_user)"
   ]
  },
  {
   "cell_type": "code",
   "execution_count": 738,
   "metadata": {},
   "outputs": [],
   "source": [
    "# #Attempting to include POS as a feature! Doesn't work very well\n",
    "\n",
    "# adjective = set([\"JJ\", \"JJR\", 'JJS'])\n",
    "# adverb = set([\"RB\", \"RBR\", 'RBS'])\n",
    "# adj_count = []\n",
    "# adv_count = []\n",
    "# for i in range(len(df)):\n",
    "#     adj, adv, pn = 0, 0, 0\n",
    "#     pos_list = TextBlob(df.iloc[i]['modeling_text']).pos_tags\n",
    "#     temp_dict = Counter(pos_list[1])\n",
    "#     for key in temp_dict:\n",
    "#         value = temp_dict[key]\n",
    "#         if key in adjective:\n",
    "#             adj += value\n",
    "#         elif key in adverb:\n",
    "#             adv += value\n",
    "#     adj_count.append(adj)\n",
    "#     adv_count.append(adv)\n",
    "# df_topic_probs['adjective'] = adj_count\n",
    "# df_topic_probs['adv_count'] = adv_count"
   ]
  },
  {
   "cell_type": "code",
   "execution_count": 729,
   "metadata": {
    "collapsed": true
   },
   "outputs": [
    {
     "data": {
      "text/html": [
       "<div>\n",
       "<style scoped>\n",
       "    .dataframe tbody tr th:only-of-type {\n",
       "        vertical-align: middle;\n",
       "    }\n",
       "\n",
       "    .dataframe tbody tr th {\n",
       "        vertical-align: top;\n",
       "    }\n",
       "\n",
       "    .dataframe thead tr th {\n",
       "        text-align: left;\n",
       "    }\n",
       "\n",
       "    .dataframe thead tr:last-of-type th {\n",
       "        text-align: right;\n",
       "    }\n",
       "</style>\n",
       "<table border=\"1\" class=\"dataframe\">\n",
       "  <thead>\n",
       "    <tr>\n",
       "      <th></th>\n",
       "      <th colspan=\"8\" halign=\"left\">adv_count</th>\n",
       "      <th colspan=\"8\" halign=\"left\">proper_n</th>\n",
       "    </tr>\n",
       "    <tr>\n",
       "      <th></th>\n",
       "      <th>count</th>\n",
       "      <th>mean</th>\n",
       "      <th>std</th>\n",
       "      <th>min</th>\n",
       "      <th>25%</th>\n",
       "      <th>50%</th>\n",
       "      <th>75%</th>\n",
       "      <th>max</th>\n",
       "      <th>count</th>\n",
       "      <th>mean</th>\n",
       "      <th>std</th>\n",
       "      <th>min</th>\n",
       "      <th>25%</th>\n",
       "      <th>50%</th>\n",
       "      <th>75%</th>\n",
       "      <th>max</th>\n",
       "    </tr>\n",
       "    <tr>\n",
       "      <th>useful</th>\n",
       "      <th></th>\n",
       "      <th></th>\n",
       "      <th></th>\n",
       "      <th></th>\n",
       "      <th></th>\n",
       "      <th></th>\n",
       "      <th></th>\n",
       "      <th></th>\n",
       "      <th></th>\n",
       "      <th></th>\n",
       "      <th></th>\n",
       "      <th></th>\n",
       "      <th></th>\n",
       "      <th></th>\n",
       "      <th></th>\n",
       "      <th></th>\n",
       "    </tr>\n",
       "  </thead>\n",
       "  <tbody>\n",
       "    <tr>\n",
       "      <th>0</th>\n",
       "      <td>2237.0</td>\n",
       "      <td>0.088064</td>\n",
       "      <td>0.283452</td>\n",
       "      <td>0.0</td>\n",
       "      <td>0.0</td>\n",
       "      <td>0.0</td>\n",
       "      <td>0.0</td>\n",
       "      <td>1.0</td>\n",
       "      <td>2237.0</td>\n",
       "      <td>0.0</td>\n",
       "      <td>0.0</td>\n",
       "      <td>0.0</td>\n",
       "      <td>0.0</td>\n",
       "      <td>0.0</td>\n",
       "      <td>0.0</td>\n",
       "      <td>0.0</td>\n",
       "    </tr>\n",
       "    <tr>\n",
       "      <th>1</th>\n",
       "      <td>1341.0</td>\n",
       "      <td>0.083520</td>\n",
       "      <td>0.276769</td>\n",
       "      <td>0.0</td>\n",
       "      <td>0.0</td>\n",
       "      <td>0.0</td>\n",
       "      <td>0.0</td>\n",
       "      <td>1.0</td>\n",
       "      <td>1341.0</td>\n",
       "      <td>0.0</td>\n",
       "      <td>0.0</td>\n",
       "      <td>0.0</td>\n",
       "      <td>0.0</td>\n",
       "      <td>0.0</td>\n",
       "      <td>0.0</td>\n",
       "      <td>0.0</td>\n",
       "    </tr>\n",
       "  </tbody>\n",
       "</table>\n",
       "</div>"
      ],
      "text/plain": [
       "       adv_count                                              proper_n       \\\n",
       "           count      mean       std  min  25%  50%  75%  max    count mean   \n",
       "useful                                                                        \n",
       "0         2237.0  0.088064  0.283452  0.0  0.0  0.0  0.0  1.0   2237.0  0.0   \n",
       "1         1341.0  0.083520  0.276769  0.0  0.0  0.0  0.0  1.0   1341.0  0.0   \n",
       "\n",
       "                                      \n",
       "        std  min  25%  50%  75%  max  \n",
       "useful                                \n",
       "0       0.0  0.0  0.0  0.0  0.0  0.0  \n",
       "1       0.0  0.0  0.0  0.0  0.0  0.0  "
      ]
     },
     "execution_count": 729,
     "metadata": {},
     "output_type": "execute_result"
    }
   ],
   "source": [
    "# df_topic_probs.groupby('useful')['adv_count', 'proper_n'].describe()"
   ]
  },
  {
   "cell_type": "code",
   "execution_count": 180,
   "metadata": {},
   "outputs": [],
   "source": [
    "df_topic_probs.to_csv('lda_doc_topic_probs')"
   ]
  },
  {
   "cell_type": "code",
   "execution_count": 179,
   "metadata": {},
   "outputs": [],
   "source": [
    "#Adding polarity for each review with TextBlob\n",
    "df_topic_probs['polarity'] = df['modeling_text'].apply(lambda x: TextBlob(x).sentiment.polarity)"
   ]
  },
  {
   "cell_type": "code",
   "execution_count": 58,
   "metadata": {},
   "outputs": [],
   "source": [
    "df_topic_probs.reset_index(inplace=True)"
   ]
  },
  {
   "cell_type": "code",
   "execution_count": 59,
   "metadata": {},
   "outputs": [
    {
     "data": {
      "text/plain": [
       "(3578, 3578)"
      ]
     },
     "execution_count": 59,
     "metadata": {},
     "output_type": "execute_result"
    }
   ],
   "source": [
    "len(df_topic_probs), len(df['length'])"
   ]
  },
  {
   "cell_type": "code",
   "execution_count": 17,
   "metadata": {},
   "outputs": [],
   "source": [
    "df_test = df_topic_probs[df_topic_probs['polarity'].isnull()]"
   ]
  },
  {
   "cell_type": "code",
   "execution_count": 18,
   "metadata": {},
   "outputs": [
    {
     "data": {
      "text/html": [
       "<div>\n",
       "<style scoped>\n",
       "    .dataframe tbody tr th:only-of-type {\n",
       "        vertical-align: middle;\n",
       "    }\n",
       "\n",
       "    .dataframe tbody tr th {\n",
       "        vertical-align: top;\n",
       "    }\n",
       "\n",
       "    .dataframe thead th {\n",
       "        text-align: right;\n",
       "    }\n",
       "</style>\n",
       "<table border=\"1\" class=\"dataframe\">\n",
       "  <thead>\n",
       "    <tr style=\"text-align: right;\">\n",
       "      <th></th>\n",
       "      <th>index</th>\n",
       "      <th>0</th>\n",
       "      <th>1</th>\n",
       "      <th>2</th>\n",
       "      <th>length</th>\n",
       "      <th>useful</th>\n",
       "      <th>review_count</th>\n",
       "      <th>account_age</th>\n",
       "      <th>useful_sum</th>\n",
       "      <th>stars</th>\n",
       "      <th>funny_sum</th>\n",
       "      <th>compliment_cool</th>\n",
       "      <th>polarity</th>\n",
       "    </tr>\n",
       "  </thead>\n",
       "  <tbody>\n",
       "  </tbody>\n",
       "</table>\n",
       "</div>"
      ],
      "text/plain": [
       "Empty DataFrame\n",
       "Columns: [index, 0, 1, 2, length, useful, review_count, account_age, useful_sum, stars, funny_sum, compliment_cool, polarity]\n",
       "Index: []"
      ]
     },
     "execution_count": 18,
     "metadata": {},
     "output_type": "execute_result"
    }
   ],
   "source": [
    "df_test"
   ]
  },
  {
   "cell_type": "code",
   "execution_count": 446,
   "metadata": {},
   "outputs": [],
   "source": [
    "df_topic_probs = df_topic_probs.dropna()"
   ]
  },
  {
   "cell_type": "code",
   "execution_count": 447,
   "metadata": {},
   "outputs": [
    {
     "data": {
      "text/plain": [
       "3578"
      ]
     },
     "execution_count": 447,
     "metadata": {},
     "output_type": "execute_result"
    }
   ],
   "source": [
    "len(df_topic_probs)"
   ]
  },
  {
   "cell_type": "code",
   "execution_count": 13,
   "metadata": {},
   "outputs": [],
   "source": [
    "#Function that creates ngrams\n",
    "def find_ngrams(input_list, n):\n",
    "    # Courtesy http://locallyoptimal.com/blog/2013/01/20/elegant-n-gram-generation-in-python/\n",
    "    ngrams = zip(*[input_list[i:] for i in range(n)])\n",
    "    flattened_ngrams = list(map(lambda x: '_'.join(x), ngrams))\n",
    "    return flattened_ngrams"
   ]
  },
  {
   "cell_type": "code",
   "execution_count": 24,
   "metadata": {},
   "outputs": [
    {
     "data": {
      "text/html": [
       "<div>\n",
       "<style scoped>\n",
       "    .dataframe tbody tr th:only-of-type {\n",
       "        vertical-align: middle;\n",
       "    }\n",
       "\n",
       "    .dataframe tbody tr th {\n",
       "        vertical-align: top;\n",
       "    }\n",
       "\n",
       "    .dataframe thead th {\n",
       "        text-align: right;\n",
       "    }\n",
       "</style>\n",
       "<table border=\"1\" class=\"dataframe\">\n",
       "  <thead>\n",
       "    <tr style=\"text-align: right;\">\n",
       "      <th></th>\n",
       "      <th>useful</th>\n",
       "      <th>text</th>\n",
       "      <th>tokens</th>\n",
       "      <th>grams</th>\n",
       "      <th>modeling_text_list</th>\n",
       "      <th>modeling_text</th>\n",
       "    </tr>\n",
       "  </thead>\n",
       "  <tbody>\n",
       "    <tr>\n",
       "      <th>0</th>\n",
       "      <td>0</td>\n",
       "      <td>I was in the area running errands with my mom....</td>\n",
       "      <td>[was, in, the, area, running, errands, with, m...</td>\n",
       "      <td>[was_in, in_the, the_area, area_running, runni...</td>\n",
       "      <td>[was, in, the, area, running, errands, with, m...</td>\n",
       "      <td>was in the area running errands with my mom we...</td>\n",
       "    </tr>\n",
       "    <tr>\n",
       "      <th>1</th>\n",
       "      <td>0</td>\n",
       "      <td>We had to try this place after hearing all the...</td>\n",
       "      <td>[we, had, to, try, this, place, after, hearing...</td>\n",
       "      <td>[we_had, had_to, to_try, try_this, this_place,...</td>\n",
       "      <td>[we, had, to, try, this, place, after, hearing...</td>\n",
       "      <td>we had to try this place after hearing all the...</td>\n",
       "    </tr>\n",
       "    <tr>\n",
       "      <th>2</th>\n",
       "      <td>0</td>\n",
       "      <td>Good quick burgers not sure about all the hype...</td>\n",
       "      <td>[good, quick, burgers, not, sure, about, all, ...</td>\n",
       "      <td>[good_quick, quick_burgers, burgers_not, not_s...</td>\n",
       "      <td>[good, quick, burgers, not, sure, about, all, ...</td>\n",
       "      <td>good quick burgers not sure about all the hype...</td>\n",
       "    </tr>\n",
       "    <tr>\n",
       "      <th>3</th>\n",
       "      <td>1</td>\n",
       "      <td>Always hot, fresh, and delicious. This is the ...</td>\n",
       "      <td>[always, hot, fresh, and, delicious, this, is,...</td>\n",
       "      <td>[always_hot, hot_fresh, fresh_and, and_delicio...</td>\n",
       "      <td>[always, hot, fresh, and, delicious, this, is,...</td>\n",
       "      <td>always hot fresh and delicious this is the bur...</td>\n",
       "    </tr>\n",
       "    <tr>\n",
       "      <th>4</th>\n",
       "      <td>0</td>\n",
       "      <td>There is not a cleaner and healthier burger pl...</td>\n",
       "      <td>[there, is, not, cleaner, and, healthier, burg...</td>\n",
       "      <td>[there_is, is_not, not_cleaner, cleaner_and, a...</td>\n",
       "      <td>[there, is, not, cleaner, and, healthier, burg...</td>\n",
       "      <td>there is not cleaner and healthier burger plac...</td>\n",
       "    </tr>\n",
       "  </tbody>\n",
       "</table>\n",
       "</div>"
      ],
      "text/plain": [
       "   useful                                               text  \\\n",
       "0       0  I was in the area running errands with my mom....   \n",
       "1       0  We had to try this place after hearing all the...   \n",
       "2       0  Good quick burgers not sure about all the hype...   \n",
       "3       1  Always hot, fresh, and delicious. This is the ...   \n",
       "4       0  There is not a cleaner and healthier burger pl...   \n",
       "\n",
       "                                              tokens  \\\n",
       "0  [was, in, the, area, running, errands, with, m...   \n",
       "1  [we, had, to, try, this, place, after, hearing...   \n",
       "2  [good, quick, burgers, not, sure, about, all, ...   \n",
       "3  [always, hot, fresh, and, delicious, this, is,...   \n",
       "4  [there, is, not, cleaner, and, healthier, burg...   \n",
       "\n",
       "                                               grams  \\\n",
       "0  [was_in, in_the, the_area, area_running, runni...   \n",
       "1  [we_had, had_to, to_try, try_this, this_place,...   \n",
       "2  [good_quick, quick_burgers, burgers_not, not_s...   \n",
       "3  [always_hot, hot_fresh, fresh_and, and_delicio...   \n",
       "4  [there_is, is_not, not_cleaner, cleaner_and, a...   \n",
       "\n",
       "                                  modeling_text_list  \\\n",
       "0  [was, in, the, area, running, errands, with, m...   \n",
       "1  [we, had, to, try, this, place, after, hearing...   \n",
       "2  [good, quick, burgers, not, sure, about, all, ...   \n",
       "3  [always, hot, fresh, and, delicious, this, is,...   \n",
       "4  [there, is, not, cleaner, and, healthier, burg...   \n",
       "\n",
       "                                       modeling_text  \n",
       "0  was in the area running errands with my mom we...  \n",
       "1  we had to try this place after hearing all the...  \n",
       "2  good quick burgers not sure about all the hype...  \n",
       "3  always hot fresh and delicious this is the bur...  \n",
       "4  there is not cleaner and healthier burger plac...  "
      ]
     },
     "execution_count": 24,
     "metadata": {},
     "output_type": "execute_result"
    }
   ],
   "source": [
    "df_text.head()"
   ]
  },
  {
   "cell_type": "code",
   "execution_count": 21,
   "metadata": {},
   "outputs": [],
   "source": [
    "#Adding custom stopwords\n",
    "stopword = set(stopwords.words('english'))\n",
    "stopword = stopword.union(set(['food', 'this', 'place', 'the', 'of', 'is', 'came', 'was', 'for', 'have', 'had'\n",
    "                           ,'and', 'get', 'one', 'food', 'guy','?','!','place', 'good', 'fries','burger', 'burgers',\n",
    "                            'got', 'eat','great', 'us', 'asked', 'service', 'back', 'time', 'like', 'vegas', 'go',\n",
    "                            'try', 'animal', 'style', 'double', 'good', 'just', 'always', 'location', 'fresh',\n",
    "                              'east', 'coast', 'order', 'ordered', 'fast']))"
   ]
  },
  {
   "cell_type": "code",
   "execution_count": 23,
   "metadata": {},
   "outputs": [],
   "source": [
    "#Creating count vectors\n",
    "vocabulary = set(itertools.chain.from_iterable(df_text['modeling_text_list']))\n",
    "vectorizer = CountVectorizer(vocabulary=vocabulary, stop_words= stopword)"
   ]
  },
  {
   "cell_type": "code",
   "execution_count": 113,
   "metadata": {},
   "outputs": [],
   "source": [
    "#Creating an empty list to store results of my models\n",
    "metric_list = []"
   ]
  },
  {
   "cell_type": "code",
   "execution_count": 66,
   "metadata": {
    "scrolled": false
   },
   "outputs": [
    {
     "data": {
      "text/plain": [
       "MultinomialNB(alpha=1.0, class_prior=None, fit_prior=True)"
      ]
     },
     "execution_count": 66,
     "metadata": {},
     "output_type": "execute_result"
    }
   ],
   "source": [
    "\"\"\"Creates train and test data with the count vectors to be used for Multinomial Naive Bayes modelling\"\"\"\n",
    "# X_train, X_test, y_train, y_test = train_test_split(df_text['modeling_text'], df_text['useful'], test_size=0.3, random_state = 15)\n",
    "\n",
    "# # Create X, y vectors\n",
    "# X_train = vectorizer.fit_transform(X_train).todense()\n",
    "\n",
    "# X_test = vectorizer.transform(X_test).todense()\n",
    "\n",
    "# # Create, train model\n",
    "# nb = MultinomialNB()\n",
    "# nb.fit(X_train, y_train)"
   ]
  },
  {
   "cell_type": "code",
   "execution_count": 67,
   "metadata": {},
   "outputs": [],
   "source": [
    "y_scoreMNB=nb.predict_proba(X_test)[:,1]\n",
    "fpr_MNB, tpr_MNB,_ = roc_curve(y_test, y_scoreMNB)"
   ]
  },
  {
   "cell_type": "code",
   "execution_count": 68,
   "metadata": {},
   "outputs": [
    {
     "data": {
      "text/plain": [
       "(0.9888178913738019, 0.6312849162011173)"
      ]
     },
     "execution_count": 68,
     "metadata": {},
     "output_type": "execute_result"
    }
   ],
   "source": [
    "#MultinomilaNB\n",
    "y_prednb = nb.predict(X_test)\n",
    "scores = nb.score(X_test, y_test)\n",
    "nb.score(X_train,y_train), scores"
   ]
  },
  {
   "cell_type": "code",
   "execution_count": 77,
   "metadata": {},
   "outputs": [],
   "source": [
    "#Saving results to a dictionary\n",
    "metrics_MNB = (metrics_to_dict('MultinomialNB', , y_test, nb.predict(X_test),\n",
    "                                   nb.score(X_train, y_train), nb.score(X_test, y_test),\n",
    "                                   'Null', 0))"
   ]
  },
  {
   "cell_type": "code",
   "execution_count": 315,
   "metadata": {},
   "outputs": [
    {
     "data": {
      "text/plain": [
       "3578"
      ]
     },
     "execution_count": 315,
     "metadata": {},
     "output_type": "execute_result"
    }
   ],
   "source": [
    "len(df_topic_probs)"
   ]
  },
  {
   "cell_type": "code",
   "execution_count": 93,
   "metadata": {},
   "outputs": [
    {
     "name": "stderr",
     "output_type": "stream",
     "text": [
      "/anaconda3/lib/python3.6/site-packages/pandas/core/frame.py:6211: FutureWarning: Sorting because non-concatenation axis is not aligned. A future version\n",
      "of pandas will change to not sort by default.\n",
      "\n",
      "To accept the future behavior, pass 'sort=False'.\n",
      "\n",
      "To retain the current behavior and silence the warning, pass 'sort=True'.\n",
      "\n",
      "  sort=sort)\n"
     ]
    }
   ],
   "source": [
    "#Adding results to my existing results dataframe\n",
    "df_metric_list.append(pd.DataFrame(metrics_MNB, index=range(1))).to_csv('metrics_dataframe')"
   ]
  },
  {
   "cell_type": "code",
   "execution_count": 72,
   "metadata": {},
   "outputs": [],
   "source": [
    "#Create a dataframe to store gridsearch results\n",
    "df_metric_list = pd.read_csv('metrics_dataframe')"
   ]
  },
  {
   "cell_type": "code",
   "execution_count": 334,
   "metadata": {},
   "outputs": [],
   "source": [
    "#Read in LSI topic probabilities, add length of review and polarity for modelling.\n",
    "df_topic_probs = pd.read_csv('lsi_topic_probs')\n",
    "df_topic_probs['length'] = df_topic_probs_lda['length']\n",
    "df_topic_probs['polarity'] = df_topic_probs_lda['polarity']"
   ]
  },
  {
   "cell_type": "code",
   "execution_count": 319,
   "metadata": {},
   "outputs": [
    {
     "data": {
      "text/html": [
       "<div>\n",
       "<style scoped>\n",
       "    .dataframe tbody tr th:only-of-type {\n",
       "        vertical-align: middle;\n",
       "    }\n",
       "\n",
       "    .dataframe tbody tr th {\n",
       "        vertical-align: top;\n",
       "    }\n",
       "\n",
       "    .dataframe thead th {\n",
       "        text-align: right;\n",
       "    }\n",
       "</style>\n",
       "<table border=\"1\" class=\"dataframe\">\n",
       "  <thead>\n",
       "    <tr style=\"text-align: right;\">\n",
       "      <th></th>\n",
       "      <th>Unnamed: 0</th>\n",
       "      <th>modeling_text</th>\n",
       "      <th>1</th>\n",
       "      <th>2</th>\n",
       "      <th>3</th>\n",
       "      <th>length</th>\n",
       "    </tr>\n",
       "  </thead>\n",
       "  <tbody>\n",
       "    <tr>\n",
       "      <th>0</th>\n",
       "      <td>0</td>\n",
       "      <td>was in the area running errands with my mom we...</td>\n",
       "      <td>1.50829</td>\n",
       "      <td>-0.43658</td>\n",
       "      <td>-0.31543</td>\n",
       "      <td>731</td>\n",
       "    </tr>\n",
       "  </tbody>\n",
       "</table>\n",
       "</div>"
      ],
      "text/plain": [
       "   Unnamed: 0                                      modeling_text        1  \\\n",
       "0           0  was in the area running errands with my mom we...  1.50829   \n",
       "\n",
       "         2        3  length  \n",
       "0 -0.43658 -0.31543     731  "
      ]
     },
     "execution_count": 319,
     "metadata": {},
     "output_type": "execute_result"
    }
   ],
   "source": [
    "df_topic_probs.head(1)"
   ]
  },
  {
   "cell_type": "code",
   "execution_count": 375,
   "metadata": {},
   "outputs": [],
   "source": [
    "#Seperates X and y for modeling and creates train, test sets\n",
    "X = df_topic_probs[['3', '1', '2', 'length']]\n",
    "y = df_topic_probs_lda['useful']\n",
    "X = scale(X)\n",
    "X_train, X_test, y_train, y_test = train_test_split(X, y, test_size=0.3, random_state = 15)"
   ]
  },
  {
   "cell_type": "code",
   "execution_count": 377,
   "metadata": {},
   "outputs": [
    {
     "data": {
      "text/plain": [
       "(2504, 1074, 2504)"
      ]
     },
     "execution_count": 377,
     "metadata": {},
     "output_type": "execute_result"
    }
   ],
   "source": [
    "len(X_train), len(X_test), len(y_train)"
   ]
  },
  {
   "cell_type": "code",
   "execution_count": 340,
   "metadata": {},
   "outputs": [],
   "source": [
    "#GausianNB for predicting with length and n-topics as features\n",
    "params = {'priors' : [None]}\n",
    "gb = GridSearchCV(GaussianNB(),params, scoring='roc_auc', cv=5)\n",
    "gb.fit(X_train, y_train)\n",
    "y_predgb = gb.predict(X_test)\n",
    "gb_scores = gb.score(X_test, y_test)"
   ]
  },
  {
   "cell_type": "code",
   "execution_count": 341,
   "metadata": {},
   "outputs": [],
   "source": [
    "y_scoregb=gb.predict_proba(X_test)[:,1]"
   ]
  },
  {
   "cell_type": "code",
   "execution_count": 342,
   "metadata": {},
   "outputs": [],
   "source": [
    "y_probgb = gb.predict_proba(X_test)"
   ]
  },
  {
   "cell_type": "code",
   "execution_count": 343,
   "metadata": {},
   "outputs": [],
   "source": [
    "fpr, tpr,_ = roc_curve(y_test, y_scoregb)"
   ]
  },
  {
   "cell_type": "code",
   "execution_count": 346,
   "metadata": {},
   "outputs": [
    {
     "name": "stdout",
     "output_type": "stream",
     "text": [
      "             precision    recall  f1-score   support\n",
      "\n",
      "          0       0.71      0.89      0.79       689\n",
      "          1       0.63      0.34      0.44       385\n",
      "\n",
      "avg / total       0.68      0.69      0.66      1074\n",
      "\n"
     ]
    },
    {
     "data": {
      "text/plain": [
       "(0.6966618287373004, None)"
      ]
     },
     "execution_count": 346,
     "metadata": {},
     "output_type": "execute_result"
    }
   ],
   "source": [
    "gb_scores, print(change_threshold(y_probgb, 0.55))"
   ]
  },
  {
   "cell_type": "code",
   "execution_count": 204,
   "metadata": {},
   "outputs": [],
   "source": [
    "#Add results to list\n",
    "n=3\n",
    "metric_list.append(metrics_to_dict('GaussianNB', n, y_test, gb.predict(X_test),\n",
    "                                   gb.score(X_train, y_train), gb.score(X_test, y_test), \"Null\",1))"
   ]
  },
  {
   "cell_type": "code",
   "execution_count": 384,
   "metadata": {},
   "outputs": [
    {
     "data": {
      "text/plain": [
       "(0.6946654071118896, 0.724041995740109, {'C': 1, 'penalty': 'l2'})"
      ]
     },
     "execution_count": 384,
     "metadata": {},
     "output_type": "execute_result"
    }
   ],
   "source": [
    "#Grid search for logistic regression\n",
    "log_params = {'C': [ 1e-2,1e-1, 1,10,100],\n",
    "             'penalty': ['l1','l2']}\n",
    "log = GridSearchCV(LogisticRegression(), log_params, scoring='roc_auc', cv = 5)\n",
    "log.fit(X_train,np.ravel(y_train))\n",
    "y_scorelog=log.predict_proba(X_test)[:,1]\n",
    "y_problog = log.predict_proba(X_test)\n",
    "coefficients = list(log.best_estimator_.coef_)\n",
    "fpr_log, tpr_log,_ = roc_curve(y_test, y_scorelog)\n",
    "roc_auc = auc(fpr_log, tpr_log)\n",
    "log.score(X_train, y_train), log.score(X_test, y_test), log.best_params_"
   ]
  },
  {
   "cell_type": "code",
   "execution_count": 420,
   "metadata": {},
   "outputs": [
    {
     "data": {
      "text/plain": [
       "LogisticRegression(C=1, class_weight=None, dual=False, fit_intercept=True,\n",
       "          intercept_scaling=1, max_iter=100, multi_class='ovr', n_jobs=1,\n",
       "          penalty='l2', random_state=None, solver='liblinear', tol=0.0001,\n",
       "          verbose=0, warm_start=False)"
      ]
     },
     "execution_count": 420,
     "metadata": {},
     "output_type": "execute_result"
    }
   ],
   "source": [
    "log.best_estimator_"
   ]
  },
  {
   "cell_type": "code",
   "execution_count": 417,
   "metadata": {},
   "outputs": [
    {
     "name": "stdout",
     "output_type": "stream",
     "text": [
      "             precision    recall  f1-score   support\n",
      "\n",
      "          0       0.65      0.99      0.79       689\n",
      "          1       0.78      0.05      0.09       385\n",
      "\n",
      "avg / total       0.70      0.65      0.54      1074\n",
      "\n"
     ]
    }
   ],
   "source": [
    "#Observing precision with different thresholds.\n",
    "print(change_threshold(y_problog, 0.8))"
   ]
  },
  {
   "cell_type": "code",
   "execution_count": 409,
   "metadata": {},
   "outputs": [],
   "source": [
    "#Add logistic regression metrics to list\n",
    "n=3\n",
    "metric_list.append(metrics_to_dict('Logistic Regression(lsi)', n, y_test,\n",
    "                                   log.predict(X_test), log.score(X_train, y_train), log.score(X_test, y_test),\n",
    "                                   log.best_params_, 1))"
   ]
  },
  {
   "cell_type": "code",
   "execution_count": 326,
   "metadata": {},
   "outputs": [
    {
     "data": {
      "text/plain": [
       "(0.7154217075886824,\n",
       " 0.7206491621585962,\n",
       " {'learning_rate': 0.1, 'max_depth': 2, 'n_estimators': 25})"
      ]
     },
     "execution_count": 326,
     "metadata": {},
     "output_type": "execute_result"
    }
   ],
   "source": [
    "#Gradient boosting grid search\n",
    "gb_param = {'n_estimators' : [25,100,200],\n",
    "        'max_depth' : [2,3,10],\n",
    "        'learning_rate': [1e-2, 1e-1, 1]}\n",
    "gradboost = GridSearchCV(GradientBoostingClassifier(), gb_param,scoring = 'roc_auc', cv= 5)\n",
    "gradboost.fit(X_train, y_train)\n",
    "y_score_gboost=gradboost.predict_proba(X_test)[:,1]\n",
    "y_prob_gboost = gradboost.predict_proba(X_test)\n",
    "fpr_gboost, tpr_gboost,_ = roc_curve(y_test, y_score_gboost)\n",
    "roc_auc = auc(fpr_gboost, tpr_gboost)\n",
    "\n",
    "gradboost.score(X_train, y_train), gradboost.score(X_test, y_test), gradboost.best_params_"
   ]
  },
  {
   "cell_type": "code",
   "execution_count": 332,
   "metadata": {},
   "outputs": [],
   "source": [
    "y_predgb = gradboost.predict(X_test)"
   ]
  },
  {
   "cell_type": "code",
   "execution_count": 333,
   "metadata": {
    "scrolled": true
   },
   "outputs": [
    {
     "name": "stdout",
     "output_type": "stream",
     "text": [
      "             precision    recall  f1-score   support\n",
      "\n",
      "          0       0.69      0.91      0.79       689\n",
      "          1       0.63      0.27      0.38       385\n",
      "\n",
      "avg / total       0.67      0.68      0.64      1074\n",
      "\n"
     ]
    }
   ],
   "source": [
    "#Observing precision with different thresholds\n",
    "print(change_threshold(y_prob_gboost, 0.5))"
   ]
  },
  {
   "cell_type": "code",
   "execution_count": 336,
   "metadata": {},
   "outputs": [],
   "source": [
    "#Add gradient boosting metrics to list\n",
    "n = 3\n",
    "metric_list.append(metrics_to_dict('Gradient Boosting(lsi)', n, y_test, gradboost.predict(X_test),\n",
    "                                   gradboost.score(X_train, y_train), gradboost.score(X_test, y_test),\n",
    "                                   gradboost.best_params_, 1))"
   ]
  },
  {
   "cell_type": "code",
   "execution_count": 747,
   "metadata": {},
   "outputs": [
    {
     "data": {
      "text/plain": [
       "True"
      ]
     },
     "execution_count": 747,
     "metadata": {},
     "output_type": "execute_result"
    }
   ],
   "source": [
    "#Saving results\n",
    "save_metrics(metric_list)"
   ]
  },
  {
   "cell_type": "code",
   "execution_count": 41,
   "metadata": {},
   "outputs": [],
   "source": [
    "#Returns the classification report for different thresholds, n.\n",
    "def change_threshold(y_prob, n):\n",
    "    y_pred = [1 if x >= n else 0 for x in y_prob[:, 1]]\n",
    "    return classification_report(y_test, y_pred)"
   ]
  },
  {
   "cell_type": "code",
   "execution_count": 70,
   "metadata": {},
   "outputs": [],
   "source": [
    "#Returns a dictionary of metrics for each algorithm\n",
    "def metrics_to_dict(algorithm, n_topics, y_test, y_pred, auc_train, auc_test, params, sa):\n",
    "    if not sa:\n",
    "        sa = 0\n",
    "    results = {}\n",
    "    prec = metrics.precision_score(y_test, y_pred)\n",
    "    recall = metrics.recall_score(y_test,y_pred)\n",
    "    f1 = metrics.f1_score(y_test,y_pred)\n",
    "    results['Algorithm'] = algorithm\n",
    "    results['Parameters'] = params\n",
    "    results['Number of Topics'] = n_topics\n",
    "    results['Polarity'] = sa\n",
    "    results['Auc_train'] = auc_train\n",
    "    results['Auc_test'] = auc_test\n",
    "    results['Precision'] = prec\n",
    "    results['Recall'] = recall\n",
    "    \n",
    "    return results"
   ]
  },
  {
   "cell_type": "code",
   "execution_count": 354,
   "metadata": {
    "scrolled": true
   },
   "outputs": [
    {
     "data": {
      "text/plain": [
       "<matplotlib.legend.Legend at 0x1a2d76ee80>"
      ]
     },
     "execution_count": 354,
     "metadata": {},
     "output_type": "execute_result"
    },
    {
     "data": {
      "image/png": "[encoded data removed]",
      "text/plain": [
       "<Figure size 720x576 with 1 Axes>"
      ]
     },
     "metadata": {},
     "output_type": "display_data"
    }
   ],
   "source": [
    "#Making AUC curve for all the algorithms I used.\n",
    "plt.figure(figsize=[10,8])\n",
    "plt.plot([0,1],[0,1])\n",
    "\n",
    "plt.plot(fpr,tpr, label='Gaussian Naive Bayes', color = 'grey')\n",
    "plt.xlabel('FPR')\n",
    "plt.ylabel('TPR')\n",
    "\n",
    "plt.plot([0,1],[0,1])\n",
    "plt.plot(fpr_MNB,tpr_MNB, label='Multinomial Naive Bayes', color = 'grey')\n",
    "\n",
    "plt.plot([0,1],[0,1])\n",
    "plt.plot(fpr_log,tpr_log, label='Logistic Regression', color = 'red')\n",
    "\n",
    "plt.plot([0,1],[0,1])\n",
    "plt.plot(fpr_gboost,tpr_gboost, label='Gradient Boosting', color = 'grey')\n",
    "\n",
    "plt.legend()"
   ]
  },
  {
   "cell_type": "code",
   "execution_count": 85,
   "metadata": {
    "scrolled": true
   },
   "outputs": [
    {
     "data": {
      "text/html": [
       "<div>\n",
       "<style scoped>\n",
       "    .dataframe tbody tr th:only-of-type {\n",
       "        vertical-align: middle;\n",
       "    }\n",
       "\n",
       "    .dataframe tbody tr th {\n",
       "        vertical-align: top;\n",
       "    }\n",
       "\n",
       "    .dataframe thead th {\n",
       "        text-align: right;\n",
       "    }\n",
       "</style>\n",
       "<table border=\"1\" class=\"dataframe\">\n",
       "  <thead>\n",
       "    <tr style=\"text-align: right;\">\n",
       "      <th></th>\n",
       "      <th>text</th>\n",
       "      <th>tokens</th>\n",
       "      <th>modeling_text</th>\n",
       "      <th>length</th>\n",
       "    </tr>\n",
       "    <tr>\n",
       "      <th>useful</th>\n",
       "      <th></th>\n",
       "      <th></th>\n",
       "      <th></th>\n",
       "      <th></th>\n",
       "    </tr>\n",
       "  </thead>\n",
       "  <tbody>\n",
       "    <tr>\n",
       "      <th>0</th>\n",
       "      <td>2221</td>\n",
       "      <td>2221</td>\n",
       "      <td>2221</td>\n",
       "      <td>2221</td>\n",
       "    </tr>\n",
       "    <tr>\n",
       "      <th>1</th>\n",
       "      <td>1338</td>\n",
       "      <td>1338</td>\n",
       "      <td>1338</td>\n",
       "      <td>1338</td>\n",
       "    </tr>\n",
       "  </tbody>\n",
       "</table>\n",
       "</div>"
      ],
      "text/plain": [
       "        text  tokens  modeling_text  length\n",
       "useful                                     \n",
       "0       2221    2221           2221    2221\n",
       "1       1338    1338           1338    1338"
      ]
     },
     "execution_count": 85,
     "metadata": {},
     "output_type": "execute_result"
    }
   ],
   "source": [
    "df_text.groupby('useful').count()"
   ]
  },
  {
   "cell_type": "code",
   "execution_count": 421,
   "metadata": {},
   "outputs": [
    {
     "data": {
      "text/html": [
       "<div>\n",
       "<style scoped>\n",
       "    .dataframe tbody tr th:only-of-type {\n",
       "        vertical-align: middle;\n",
       "    }\n",
       "\n",
       "    .dataframe tbody tr th {\n",
       "        vertical-align: top;\n",
       "    }\n",
       "\n",
       "    .dataframe thead th {\n",
       "        text-align: right;\n",
       "    }\n",
       "</style>\n",
       "<table border=\"1\" class=\"dataframe\">\n",
       "  <thead>\n",
       "    <tr style=\"text-align: right;\">\n",
       "      <th></th>\n",
       "      <th>Algorithm</th>\n",
       "      <th>Auc_test</th>\n",
       "      <th>Auc_train</th>\n",
       "      <th>Number of Topics</th>\n",
       "      <th>Parameters</th>\n",
       "      <th>Polarity</th>\n",
       "      <th>Precision</th>\n",
       "      <th>Recall</th>\n",
       "    </tr>\n",
       "  </thead>\n",
       "  <tbody>\n",
       "    <tr>\n",
       "      <th>10</th>\n",
       "      <td>Logistic Regression(lsi)</td>\n",
       "      <td>0.724042</td>\n",
       "      <td>0.694665</td>\n",
       "      <td>3</td>\n",
       "      <td>{'C': 1, 'penalty': 'l2'}</td>\n",
       "      <td>1</td>\n",
       "      <td>0.633880</td>\n",
       "      <td>0.301299</td>\n",
       "    </tr>\n",
       "    <tr>\n",
       "      <th>12</th>\n",
       "      <td>Logistic Regression(lsi)</td>\n",
       "      <td>0.724042</td>\n",
       "      <td>0.694665</td>\n",
       "      <td>3</td>\n",
       "      <td>{'C': 1, 'penalty': 'l2'}</td>\n",
       "      <td>1</td>\n",
       "      <td>0.633880</td>\n",
       "      <td>0.301299</td>\n",
       "    </tr>\n",
       "    <tr>\n",
       "      <th>11</th>\n",
       "      <td>Gradient Boosting(lsi)</td>\n",
       "      <td>0.720649</td>\n",
       "      <td>0.715422</td>\n",
       "      <td>3</td>\n",
       "      <td>{'learning_rate': 0.1, 'max_depth': 2, 'n_esti...</td>\n",
       "      <td>1</td>\n",
       "      <td>0.626506</td>\n",
       "      <td>0.270130</td>\n",
       "    </tr>\n",
       "    <tr>\n",
       "      <th>8</th>\n",
       "      <td>Logistic Regression</td>\n",
       "      <td>0.719220</td>\n",
       "      <td>0.694776</td>\n",
       "      <td>3</td>\n",
       "      <td>{'C': 1}</td>\n",
       "      <td>1</td>\n",
       "      <td>0.638614</td>\n",
       "      <td>0.335065</td>\n",
       "    </tr>\n",
       "    <tr>\n",
       "      <th>9</th>\n",
       "      <td>Gradient Boosting</td>\n",
       "      <td>0.717790</td>\n",
       "      <td>0.709373</td>\n",
       "      <td>3</td>\n",
       "      <td>{'learning_rate': 0.01, 'max_depth': 2, 'n_est...</td>\n",
       "      <td>1</td>\n",
       "      <td>0.639456</td>\n",
       "      <td>0.244156</td>\n",
       "    </tr>\n",
       "    <tr>\n",
       "      <th>5</th>\n",
       "      <td>Logistic Regression</td>\n",
       "      <td>0.717460</td>\n",
       "      <td>0.694987</td>\n",
       "      <td>3</td>\n",
       "      <td>{'C': 1}</td>\n",
       "      <td>0</td>\n",
       "      <td>0.645000</td>\n",
       "      <td>0.335065</td>\n",
       "    </tr>\n",
       "    <tr>\n",
       "      <th>4</th>\n",
       "      <td>Gradient Boosting</td>\n",
       "      <td>0.717236</td>\n",
       "      <td>0.709121</td>\n",
       "      <td>3</td>\n",
       "      <td>{'learning_rate': 0.01, 'max_depth': 2, 'n_est...</td>\n",
       "      <td>0</td>\n",
       "      <td>0.639456</td>\n",
       "      <td>0.244156</td>\n",
       "    </tr>\n",
       "    <tr>\n",
       "      <th>3</th>\n",
       "      <td>Gradient Boosting</td>\n",
       "      <td>0.715811</td>\n",
       "      <td>0.712171</td>\n",
       "      <td>15</td>\n",
       "      <td>{'learning_rate': 0.1, 'max_depth': 2, 'n_esti...</td>\n",
       "      <td>0</td>\n",
       "      <td>0.616279</td>\n",
       "      <td>0.275325</td>\n",
       "    </tr>\n",
       "    <tr>\n",
       "      <th>2</th>\n",
       "      <td>Logistic Regression</td>\n",
       "      <td>0.713191</td>\n",
       "      <td>0.695834</td>\n",
       "      <td>15</td>\n",
       "      <td>{'C': 10}</td>\n",
       "      <td>1</td>\n",
       "      <td>0.605381</td>\n",
       "      <td>0.350649</td>\n",
       "    </tr>\n",
       "    <tr>\n",
       "      <th>1</th>\n",
       "      <td>GaussianNB</td>\n",
       "      <td>0.673866</td>\n",
       "      <td>0.661497</td>\n",
       "      <td>15</td>\n",
       "      <td>Null</td>\n",
       "      <td>1</td>\n",
       "      <td>0.363198</td>\n",
       "      <td>0.979221</td>\n",
       "    </tr>\n",
       "    <tr>\n",
       "      <th>0</th>\n",
       "      <td>GaussianNB</td>\n",
       "      <td>0.663048</td>\n",
       "      <td>0.660456</td>\n",
       "      <td>15</td>\n",
       "      <td>Null</td>\n",
       "      <td>0</td>\n",
       "      <td>0.363198</td>\n",
       "      <td>0.979221</td>\n",
       "    </tr>\n",
       "    <tr>\n",
       "      <th>7</th>\n",
       "      <td>GaussianNB</td>\n",
       "      <td>0.662975</td>\n",
       "      <td>0.650575</td>\n",
       "      <td>3</td>\n",
       "      <td>Null</td>\n",
       "      <td>1</td>\n",
       "      <td>0.576923</td>\n",
       "      <td>0.428571</td>\n",
       "    </tr>\n",
       "    <tr>\n",
       "      <th>6</th>\n",
       "      <td>GaussianNB</td>\n",
       "      <td>0.651413</td>\n",
       "      <td>0.643783</td>\n",
       "      <td>3</td>\n",
       "      <td>Null</td>\n",
       "      <td>0</td>\n",
       "      <td>0.625000</td>\n",
       "      <td>0.389610</td>\n",
       "    </tr>\n",
       "  </tbody>\n",
       "</table>\n",
       "</div>"
      ],
      "text/plain": [
       "                   Algorithm  Auc_test  Auc_train  Number of Topics  \\\n",
       "10  Logistic Regression(lsi)  0.724042   0.694665                 3   \n",
       "12  Logistic Regression(lsi)  0.724042   0.694665                 3   \n",
       "11    Gradient Boosting(lsi)  0.720649   0.715422                 3   \n",
       "8        Logistic Regression  0.719220   0.694776                 3   \n",
       "9          Gradient Boosting  0.717790   0.709373                 3   \n",
       "5        Logistic Regression  0.717460   0.694987                 3   \n",
       "4          Gradient Boosting  0.717236   0.709121                 3   \n",
       "3          Gradient Boosting  0.715811   0.712171                15   \n",
       "2        Logistic Regression  0.713191   0.695834                15   \n",
       "1                 GaussianNB  0.673866   0.661497                15   \n",
       "0                 GaussianNB  0.663048   0.660456                15   \n",
       "7                 GaussianNB  0.662975   0.650575                 3   \n",
       "6                 GaussianNB  0.651413   0.643783                 3   \n",
       "\n",
       "                                           Parameters  Polarity  Precision  \\\n",
       "10                          {'C': 1, 'penalty': 'l2'}         1   0.633880   \n",
       "12                          {'C': 1, 'penalty': 'l2'}         1   0.633880   \n",
       "11  {'learning_rate': 0.1, 'max_depth': 2, 'n_esti...         1   0.626506   \n",
       "8                                            {'C': 1}         1   0.638614   \n",
       "9   {'learning_rate': 0.01, 'max_depth': 2, 'n_est...         1   0.639456   \n",
       "5                                            {'C': 1}         0   0.645000   \n",
       "4   {'learning_rate': 0.01, 'max_depth': 2, 'n_est...         0   0.639456   \n",
       "3   {'learning_rate': 0.1, 'max_depth': 2, 'n_esti...         0   0.616279   \n",
       "2                                           {'C': 10}         1   0.605381   \n",
       "1                                                Null         1   0.363198   \n",
       "0                                                Null         0   0.363198   \n",
       "7                                                Null         1   0.576923   \n",
       "6                                                Null         0   0.625000   \n",
       "\n",
       "      Recall  \n",
       "10  0.301299  \n",
       "12  0.301299  \n",
       "11  0.270130  \n",
       "8   0.335065  \n",
       "9   0.244156  \n",
       "5   0.335065  \n",
       "4   0.244156  \n",
       "3   0.275325  \n",
       "2   0.350649  \n",
       "1   0.979221  \n",
       "0   0.979221  \n",
       "7   0.428571  \n",
       "6   0.389610  "
      ]
     },
     "execution_count": 421,
     "metadata": {},
     "output_type": "execute_result"
    }
   ],
   "source": [
    "#Sorting by AUC scores to see which algorithm performed the best and with which hyperparameters\n",
    "pd.DataFrame(metric_list).sort_values('Auc_test', ascending = False)"
   ]
  },
  {
   "cell_type": "code",
   "execution_count": 196,
   "metadata": {
    "collapsed": true
   },
   "outputs": [
    {
     "data": {
      "text/html": [
       "<div>\n",
       "<style scoped>\n",
       "    .dataframe tbody tr th:only-of-type {\n",
       "        vertical-align: middle;\n",
       "    }\n",
       "\n",
       "    .dataframe tbody tr th {\n",
       "        vertical-align: top;\n",
       "    }\n",
       "\n",
       "    .dataframe thead th {\n",
       "        text-align: right;\n",
       "    }\n",
       "</style>\n",
       "<table border=\"1\" class=\"dataframe\">\n",
       "  <thead>\n",
       "    <tr style=\"text-align: right;\">\n",
       "      <th></th>\n",
       "      <th>Unnamed: 0</th>\n",
       "      <th>Algorithm</th>\n",
       "      <th>Auc_test</th>\n",
       "      <th>Auc_train</th>\n",
       "      <th>Number of Topics</th>\n",
       "      <th>Parameters</th>\n",
       "      <th>Polarity</th>\n",
       "      <th>Precision</th>\n",
       "      <th>Recall</th>\n",
       "    </tr>\n",
       "  </thead>\n",
       "  <tbody>\n",
       "    <tr>\n",
       "      <th>15</th>\n",
       "      <td>15</td>\n",
       "      <td>Logistic Regression</td>\n",
       "      <td>0.724664</td>\n",
       "      <td>0.693508</td>\n",
       "      <td>3</td>\n",
       "      <td>{'C': 0.1}</td>\n",
       "      <td>1.0</td>\n",
       "      <td>0.647668</td>\n",
       "      <td>0.324675</td>\n",
       "    </tr>\n",
       "    <tr>\n",
       "      <th>4</th>\n",
       "      <td>4</td>\n",
       "      <td>Logistic Regression</td>\n",
       "      <td>0.722625</td>\n",
       "      <td>0.693229</td>\n",
       "      <td>2</td>\n",
       "      <td>{'C': 10}</td>\n",
       "      <td>0.0</td>\n",
       "      <td>0.635417</td>\n",
       "      <td>0.316883</td>\n",
       "    </tr>\n",
       "    <tr>\n",
       "      <th>7</th>\n",
       "      <td>7</td>\n",
       "      <td>Logistic Regression</td>\n",
       "      <td>0.720529</td>\n",
       "      <td>0.694396</td>\n",
       "      <td>3</td>\n",
       "      <td>{'C': 10}</td>\n",
       "      <td>0.0</td>\n",
       "      <td>0.647668</td>\n",
       "      <td>0.324675</td>\n",
       "    </tr>\n",
       "    <tr>\n",
       "      <th>8</th>\n",
       "      <td>8</td>\n",
       "      <td>Gradient Boosting</td>\n",
       "      <td>0.720121</td>\n",
       "      <td>0.700771</td>\n",
       "      <td>3</td>\n",
       "      <td>{'learning_rate': 0.1, 'max_depth': 2, 'n_esti...</td>\n",
       "      <td>0.0</td>\n",
       "      <td>0.652482</td>\n",
       "      <td>0.238961</td>\n",
       "    </tr>\n",
       "    <tr>\n",
       "      <th>10</th>\n",
       "      <td>10</td>\n",
       "      <td>Logistic Regression</td>\n",
       "      <td>0.719756</td>\n",
       "      <td>0.693229</td>\n",
       "      <td>4</td>\n",
       "      <td>{'C': 20}</td>\n",
       "      <td>0.0</td>\n",
       "      <td>0.639594</td>\n",
       "      <td>0.327273</td>\n",
       "    </tr>\n",
       "    <tr>\n",
       "      <th>16</th>\n",
       "      <td>16</td>\n",
       "      <td>Gradient Boosting</td>\n",
       "      <td>0.718996</td>\n",
       "      <td>0.701180</td>\n",
       "      <td>3</td>\n",
       "      <td>{'learning_rate': 0.01, 'max_depth': 2, 'n_est...</td>\n",
       "      <td>1.0</td>\n",
       "      <td>0.652482</td>\n",
       "      <td>0.238961</td>\n",
       "    </tr>\n",
       "    <tr>\n",
       "      <th>2</th>\n",
       "      <td>2</td>\n",
       "      <td>Gradient Boosting</td>\n",
       "      <td>0.718463</td>\n",
       "      <td>0.698783</td>\n",
       "      <td>5</td>\n",
       "      <td>{'learning_rate': 0.1, 'max_depth': 1, 'n_esti...</td>\n",
       "      <td>0.0</td>\n",
       "      <td>0.652482</td>\n",
       "      <td>0.238961</td>\n",
       "    </tr>\n",
       "    <tr>\n",
       "      <th>11</th>\n",
       "      <td>11</td>\n",
       "      <td>Gradient Boosting</td>\n",
       "      <td>0.718084</td>\n",
       "      <td>0.703504</td>\n",
       "      <td>4</td>\n",
       "      <td>{'learning_rate': 0.01, 'max_depth': 2, 'n_est...</td>\n",
       "      <td>0.0</td>\n",
       "      <td>0.652482</td>\n",
       "      <td>0.238961</td>\n",
       "    </tr>\n",
       "    <tr>\n",
       "      <th>5</th>\n",
       "      <td>5</td>\n",
       "      <td>Gradient Boosting</td>\n",
       "      <td>0.717443</td>\n",
       "      <td>0.700158</td>\n",
       "      <td>2</td>\n",
       "      <td>{'learning_rate': 0.01, 'max_depth': 2, 'n_est...</td>\n",
       "      <td>0.0</td>\n",
       "      <td>0.652482</td>\n",
       "      <td>0.238961</td>\n",
       "    </tr>\n",
       "    <tr>\n",
       "      <th>13</th>\n",
       "      <td>13</td>\n",
       "      <td>Logistic Regression</td>\n",
       "      <td>0.711907</td>\n",
       "      <td>0.697092</td>\n",
       "      <td>10</td>\n",
       "      <td>{'C': 1}</td>\n",
       "      <td>0.0</td>\n",
       "      <td>0.612245</td>\n",
       "      <td>0.311688</td>\n",
       "    </tr>\n",
       "    <tr>\n",
       "      <th>1</th>\n",
       "      <td>1</td>\n",
       "      <td>Logistic Regression</td>\n",
       "      <td>0.710863</td>\n",
       "      <td>0.690428</td>\n",
       "      <td>5</td>\n",
       "      <td>{'C': 1}</td>\n",
       "      <td>0.0</td>\n",
       "      <td>0.642487</td>\n",
       "      <td>0.322078</td>\n",
       "    </tr>\n",
       "    <tr>\n",
       "      <th>14</th>\n",
       "      <td>14</td>\n",
       "      <td>Gradient Boosting</td>\n",
       "      <td>0.705628</td>\n",
       "      <td>0.715744</td>\n",
       "      <td>10</td>\n",
       "      <td>{'learning_rate': 0.01, 'max_depth': 2, 'n_est...</td>\n",
       "      <td>0.0</td>\n",
       "      <td>0.647482</td>\n",
       "      <td>0.233766</td>\n",
       "    </tr>\n",
       "    <tr>\n",
       "      <th>6</th>\n",
       "      <td>6</td>\n",
       "      <td>GaussianNB</td>\n",
       "      <td>0.697393</td>\n",
       "      <td>0.665735</td>\n",
       "      <td>3</td>\n",
       "      <td>Null</td>\n",
       "      <td>0.0</td>\n",
       "      <td>0.653061</td>\n",
       "      <td>0.332468</td>\n",
       "    </tr>\n",
       "    <tr>\n",
       "      <th>9</th>\n",
       "      <td>9</td>\n",
       "      <td>GaussianNB</td>\n",
       "      <td>0.691806</td>\n",
       "      <td>0.664537</td>\n",
       "      <td>4</td>\n",
       "      <td>Null</td>\n",
       "      <td>0.0</td>\n",
       "      <td>0.631068</td>\n",
       "      <td>0.337662</td>\n",
       "    </tr>\n",
       "    <tr>\n",
       "      <th>3</th>\n",
       "      <td>3</td>\n",
       "      <td>GaussianNB</td>\n",
       "      <td>0.685289</td>\n",
       "      <td>0.672923</td>\n",
       "      <td>2</td>\n",
       "      <td>Null</td>\n",
       "      <td>0.0</td>\n",
       "      <td>0.642424</td>\n",
       "      <td>0.275325</td>\n",
       "    </tr>\n",
       "    <tr>\n",
       "      <th>0</th>\n",
       "      <td>0</td>\n",
       "      <td>GaussianNB</td>\n",
       "      <td>0.683426</td>\n",
       "      <td>0.650559</td>\n",
       "      <td>5</td>\n",
       "      <td>Null</td>\n",
       "      <td>0.0</td>\n",
       "      <td>0.562674</td>\n",
       "      <td>0.524675</td>\n",
       "    </tr>\n",
       "    <tr>\n",
       "      <th>12</th>\n",
       "      <td>12</td>\n",
       "      <td>GaussianNB</td>\n",
       "      <td>0.662225</td>\n",
       "      <td>0.663566</td>\n",
       "      <td>10</td>\n",
       "      <td>Null</td>\n",
       "      <td>0.0</td>\n",
       "      <td>0.490798</td>\n",
       "      <td>0.623377</td>\n",
       "    </tr>\n",
       "  </tbody>\n",
       "</table>\n",
       "</div>"
      ],
      "text/plain": [
       "    Unnamed: 0            Algorithm  Auc_test  Auc_train  Number of Topics  \\\n",
       "15          15  Logistic Regression  0.724664   0.693508                 3   \n",
       "4            4  Logistic Regression  0.722625   0.693229                 2   \n",
       "7            7  Logistic Regression  0.720529   0.694396                 3   \n",
       "8            8    Gradient Boosting  0.720121   0.700771                 3   \n",
       "10          10  Logistic Regression  0.719756   0.693229                 4   \n",
       "16          16    Gradient Boosting  0.718996   0.701180                 3   \n",
       "2            2    Gradient Boosting  0.718463   0.698783                 5   \n",
       "11          11    Gradient Boosting  0.718084   0.703504                 4   \n",
       "5            5    Gradient Boosting  0.717443   0.700158                 2   \n",
       "13          13  Logistic Regression  0.711907   0.697092                10   \n",
       "1            1  Logistic Regression  0.710863   0.690428                 5   \n",
       "14          14    Gradient Boosting  0.705628   0.715744                10   \n",
       "6            6           GaussianNB  0.697393   0.665735                 3   \n",
       "9            9           GaussianNB  0.691806   0.664537                 4   \n",
       "3            3           GaussianNB  0.685289   0.672923                 2   \n",
       "0            0           GaussianNB  0.683426   0.650559                 5   \n",
       "12          12           GaussianNB  0.662225   0.663566                10   \n",
       "\n",
       "                                           Parameters  Polarity  Precision  \\\n",
       "15                                         {'C': 0.1}       1.0   0.647668   \n",
       "4                                           {'C': 10}       0.0   0.635417   \n",
       "7                                           {'C': 10}       0.0   0.647668   \n",
       "8   {'learning_rate': 0.1, 'max_depth': 2, 'n_esti...       0.0   0.652482   \n",
       "10                                          {'C': 20}       0.0   0.639594   \n",
       "16  {'learning_rate': 0.01, 'max_depth': 2, 'n_est...       1.0   0.652482   \n",
       "2   {'learning_rate': 0.1, 'max_depth': 1, 'n_esti...       0.0   0.652482   \n",
       "11  {'learning_rate': 0.01, 'max_depth': 2, 'n_est...       0.0   0.652482   \n",
       "5   {'learning_rate': 0.01, 'max_depth': 2, 'n_est...       0.0   0.652482   \n",
       "13                                           {'C': 1}       0.0   0.612245   \n",
       "1                                            {'C': 1}       0.0   0.642487   \n",
       "14  {'learning_rate': 0.01, 'max_depth': 2, 'n_est...       0.0   0.647482   \n",
       "6                                                Null       0.0   0.653061   \n",
       "9                                                Null       0.0   0.631068   \n",
       "3                                                Null       0.0   0.642424   \n",
       "0                                                Null       0.0   0.562674   \n",
       "12                                               Null       0.0   0.490798   \n",
       "\n",
       "      Recall  \n",
       "15  0.324675  \n",
       "4   0.316883  \n",
       "7   0.324675  \n",
       "8   0.238961  \n",
       "10  0.327273  \n",
       "16  0.238961  \n",
       "2   0.238961  \n",
       "11  0.238961  \n",
       "5   0.238961  \n",
       "13  0.311688  \n",
       "1   0.322078  \n",
       "14  0.233766  \n",
       "6   0.332468  \n",
       "9   0.337662  \n",
       "3   0.275325  \n",
       "0   0.524675  \n",
       "12  0.623377  "
      ]
     },
     "execution_count": 196,
     "metadata": {},
     "output_type": "execute_result"
    }
   ],
   "source": [
    "df_metric_list.fillna(0).sort_values('Auc_test', ascending = False)"
   ]
  },
  {
   "cell_type": "code",
   "execution_count": 272,
   "metadata": {},
   "outputs": [],
   "source": [
    "#Making confusion matrix\n",
    "class_names = ['Not Useful','Useful']\n",
    "import itertools\n",
    "import numpy as np\n",
    "import matplotlib.pyplot as plt\n",
    "\n",
    "from sklearn import svm, datasets\n",
    "from sklearn.model_selection import train_test_split\n",
    "from sklearn.metrics import confusion_matrix\n",
    "\n",
    "def plot_confusion_matrix(cm, classes,\n",
    "                          normalize=False,\n",
    "                          title='Confusion matrix',\n",
    "                          cmap=plt.cm.Blues):\n",
    "    \"\"\"\n",
    "    This function prints and plots the confusion matrix.\n",
    "    Normalization can be applied by setting `normalize=True`.\n",
    "    \"\"\"\n",
    "    if normalize:\n",
    "        cm = cm.astype('float') / cm.sum(axis=1)[:, np.newaxis]\n",
    "        print(\"Normalized confusion matrix\")\n",
    "    else:\n",
    "        print('Confusion matrix, without normalization')\n",
    "\n",
    "    print(cm)\n",
    "\n",
    "    plt.imshow(cm, interpolation='nearest', cmap=cmap)\n",
    "    plt.title(title)\n",
    "    plt.colorbar()\n",
    "    tick_marks = np.arange(len(classes))\n",
    "    plt.xticks(tick_marks, classes, rotation=45)\n",
    "    plt.yticks(tick_marks, classes)\n",
    "\n",
    "    fmt = '.2f' if normalize else 'd'\n",
    "    thresh = cm.max() / 2.\n",
    "    for i, j in itertools.product(range(cm.shape[0]), range(cm.shape[1])):\n",
    "        plt.text(j, i, format(cm[i, j], fmt),\n",
    "                 horizontalalignment=\"center\",\n",
    "                 color=\"white\" if cm[i, j] > thresh else \"black\")\n",
    "\n",
    "    plt.tight_layout()\n",
    "    plt.ylabel('True')\n",
    "    plt.xlabel('Predicted')"
   ]
  },
  {
   "cell_type": "code",
   "execution_count": 214,
   "metadata": {},
   "outputs": [],
   "source": [
    "y_pred = log.predict(X_test)"
   ]
  },
  {
   "cell_type": "code",
   "execution_count": 419,
   "metadata": {},
   "outputs": [
    {
     "name": "stdout",
     "output_type": "stream",
     "text": [
      "Confusion matrix, without normalization\n",
      "[[684   5]\n",
      " [367  18]]\n"
     ]
    },
    {
     "data": {
      "image/png": "[encoded data removed]",
      "text/plain": [
       "<Figure size 432x288 with 2 Axes>"
      ]
     },
     "metadata": {},
     "output_type": "display_data"
    }
   ],
   "source": [
    "#Creating confusion matrix.\n",
    "from sklearn.metrics import confusion_matrix\n",
    "cnf_matrix = confusion_matrix(y_test, y_pred)\n",
    "plt.figure()\n",
    "plot_confusion_matrix(cnf_matrix, classes=class_names,\n",
    "                      title='Confusion Matrix')"
   ]
  }
 ],
 "metadata": {
  "kernelspec": {
   "display_name": "Python 3",
   "language": "python",
   "name": "python3"
  },
  "language_info": {
   "codemirror_mode": {
    "name": "ipython",
    "version": 3
   },
   "file_extension": ".py",
   "mimetype": "text/x-python",
   "name": "python",
   "nbconvert_exporter": "python",
   "pygments_lexer": "ipython3",
   "version": "3.6.5"
  }
 },
 "nbformat": 4,
 "nbformat_minor": 2
}
